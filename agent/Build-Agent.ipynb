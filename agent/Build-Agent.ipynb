{
 "cells": [
  {
   "cell_type": "markdown",
   "id": "f2ec2d2e-c674-49c3-891f-99bb94dd8f6e",
   "metadata": {},
   "source": [
    "# Build Agent\n",
    "Por sí solos, los modelos de lenguaje no pueden realizar acciones; solo generan texto. Un caso de uso importante para LangChain es la creación de agentes. Los agentes son sistemas que utilizan LLM como motores de razonamiento para determinar qué acciones realizar y las entradas necesarias para realizarlas. Tras ejecutar las acciones, los resultados se pueden realimentar al LLM para determinar si se necesitan más acciones o si se puede finalizar. Esto se suele lograr mediante llamadas a herramientas.\n",
    "\n",
    "En este tutorial, crearemos un agente que puede interactuar con un motor de búsqueda. Podrás hacerle preguntas a este agente, observar cómo llama a la herramienta de búsqueda y conversar con él."
   ]
  },
  {
   "cell_type": "markdown",
   "id": "a3769de3-1d6d-46c6-9c7c-75df88f53f4b",
   "metadata": {},
   "source": [
    "## Bibliotecas"
   ]
  },
  {
   "cell_type": "code",
   "execution_count": 2,
   "id": "620a1bd6-05c1-4563-865d-bf223b989a75",
   "metadata": {},
   "outputs": [],
   "source": [
    "from langchain_ollama import ChatOllama\n",
    "from langchain_community.tools.tavily_search import TavilySearchResults\n",
    "from langchain_core.messages import HumanMessage, SystemMessage\n",
    "from langgraph.checkpoint.memory import MemorySaver\n",
    "from langgraph.prebuilt import create_react_agent\n",
    "from langchain_core.prompts import ChatPromptTemplate, MessagesPlaceholder\n",
    "\n",
    "import getpass\n",
    "import os"
   ]
  },
  {
   "cell_type": "markdown",
   "id": "eb4c9506-e826-46ec-a52b-9f00d4a23c23",
   "metadata": {},
   "source": [
    "## End-to-end agent\n",
    "The code snippet below represents a fully functional agent that uses an LLM to decide which tools to use. It is equipped with a generic search tool. It has conversational memory - meaning that it can be used as a multi-turn chatbot.\n",
    "\n",
    "In the rest of the guide, we will walk through the individual components and what each part does - but if you want to just grab some code and get started, feel free to use this!\n",
    "```Python\n",
    "# Import relevant functionality\n",
    "from langchain_anthropic import ChatAnthropic\n",
    "from langchain_community.tools.tavily_search import TavilySearchResults\n",
    "from langchain_core.messages import HumanMessage\n",
    "from langgraph.checkpoint.memory import MemorySaver\n",
    "from langgraph.prebuilt import create_react_agent\n",
    "\n",
    "# Create the agent\n",
    "memory = MemorySaver()\n",
    "model = ChatAnthropic(model_name=\"claude-3-sonnet-20240229\")\n",
    "search = TavilySearchResults(max_results=2)\n",
    "tools = [search]\n",
    "agent_executor = create_react_agent(model, tools, checkpointer=memory)\n",
    "\n",
    "# Use the agent\n",
    "config = {\"configurable\": {\"thread_id\": \"abc123\"}}\n",
    "for step in agent_executor.stream(\n",
    "    {\"messages\": [HumanMessage(content=\"hi im bob! and i live in sf\")]},\n",
    "    config,\n",
    "    stream_mode=\"values\",\n",
    "):\n",
    "    step[\"messages\"][-1].pretty_print()\n",
    "\n",
    "```\n",
    "================================\u001b[1m Human Message \u001b[0m=================================\n",
    "\n",
    "hi im bob! and i live in sf\n",
    "\n",
    "==================================\u001b[1m Ai Message \u001b[0m==================================\n",
    "\n",
    "Hello Bob! Since you didn't ask a specific question, I don't need to use any tools right now. I'm an AI assistant created by Anthropic to be helpful, honest, and harmless. Feel free to ask me anything and I'll do my best to provide a useful response or look up information using my capabilities.\n",
    "\n",
    "```Python\n",
    "for step in agent_executor.stream(\n",
    "    {\"messages\": [HumanMessage(content=\"whats the weather where I live?\")]},\n",
    "    config,\n",
    "    stream_mode=\"values\",\n",
    "):\n",
    "    step[\"messages\"][-1].pretty_print()\n",
    "```\n",
    "\n",
    "================================\u001b[1m Human Message \u001b[0m=================================\n",
    "\n",
    "whats the weather where I live?\n",
    "\n",
    "==================================\u001b[1m Ai Message \u001b[0m==================================\n",
    "\n",
    "[{'text': 'To get the current weather for your location in San Francisco, I can use the tavily_search_results_json tool:', 'type': 'text'}, {'id': 'toolu_01AKa2MErG1CU3zRiGsvpBud', 'input': {'query': 'san francisco weather'}, 'name': 'tavily_search_results_json', 'type': 'tool_use'}]\n",
    "Tool Calls:\n",
    "  tavily_search_results_json (toolu_01AKa2MErG1CU3zRiGsvpBud)\n",
    " Call ID: toolu_01AKa2MErG1CU3zRiGsvpBud\n",
    "  Args:\n",
    "    query: san francisco weather\n",
    "    \n",
    "=================================\u001b[1m Tool Message \u001b[0m=================================\n",
    "Name: tavily_search_results_json\n",
    "\n",
    "[{\"url\": \"https://www.weatherapi.com/\", \"content\": \"{'location': {'name': 'San Francisco', 'region': 'California', 'country': 'United States of America', 'lat': 37.775, 'lon': -122.4183, 'tz_id': 'America/Los_Angeles', 'localtime_epoch': 1739994486, 'localtime': '2025-02-19 11:48'}, 'current': {'last_updated_epoch': 1739994300, 'last_updated': '2025-02-19 11:45', 'temp_c': 13.3, 'temp_f': 55.9, 'is_day': 1, 'condition': {'text': 'Light rain', 'icon': '//cdn.weatherapi.com/weather/64x64/day/296.png', 'code': 1183}, 'wind_mph': 5.8, 'wind_kph': 9.4, 'wind_degree': 195, 'wind_dir': 'SSW', 'pressure_mb': 1023.0, 'pressure_in': 30.2, 'precip_mm': 0.0, 'precip_in': 0.0, 'humidity': 87, 'cloud': 100, 'feelslike_c': 12.7, 'feelslike_f': 54.8, 'windchill_c': 9.1, 'windchill_f': 48.4, 'heatindex_c': 10.2, 'heatindex_f': 50.3, 'dewpoint_c': 9.8, 'dewpoint_f': 49.7, 'vis_km': 4.0, 'vis_miles': 2.0, 'uv': 1.4, 'gust_mph': 8.9, 'gust_kph': 14.4}}\"}, {\"url\": \"https://world-weather.info/forecast/usa/san_francisco/february-2025/\", \"content\": \"Weather in San Francisco in February 2025 (California) - Detailed Weather Forecast for a Month Weather World Weather in San Francisco Weather in San Francisco in February 2025 San Francisco Weather Forecast for February 2025, is based on previous years' statistical data. +59°+50° +59°+52° +59°+50° +61°+52° +59°+50° +61°+50° +61°+52° +63°+52° +61°+52° +61°+50° +61°+50° +61°+50° +59°+50° +59°+50° +61°+50° +61°+52° +59°+50° +59°+48° +57°+48° +59°+50° +59°+48° +59°+50° +57°+46° +61°+50° +61°+50° +59°+50° +59°+48° +59°+50° Extended weather forecast in San Francisco HourlyWeek10-Day14-Day30-DayYear Weather in large and nearby cities Weather in Washington, D.C.+41° Sacramento+55° Pleasanton+55° Redwood City+55° San Leandro+55° San Mateo+54° San Rafael+52° San Ramon+52° South San Francisco+54° Vallejo+50° Palo Alto+55° Pacifica+55° Berkeley+54° Castro Valley+55° Concord+52° Daly City+54° Noverd+52° Sign Hill+54° world's temperature today day day Temperature units\"}]\n",
    "\n",
    "==================================\u001b[1m Ai Message \u001b[0m==================================\n",
    "\n",
    "The search results provide the current weather conditions and forecast for San Francisco. According to the data from WeatherAPI, the current temperature in San Francisco is around 55°F (13°C) with light rain and winds around 6 mph. The extended forecast shows temperatures ranging from the upper 40s to low 60s Fahrenheit over the next few weeks.\n",
    "\n",
    "So in summary, it's a cool, rainy day currently in San Francisco where you live, Bob. Let me know if you need any other details about the weather there!"
   ]
  },
  {
   "cell_type": "markdown",
   "id": "2a583a68-8cc9-4da8-b1df-3d6911144d9e",
   "metadata": {},
   "source": [
    "## Instalación\n",
    "```bash\n",
    "%pip install -U langchain-community langgraph langchain-ollama tavily-python langgraph-checkpoint-sqlite langchain-core\n",
    "```"
   ]
  },
  {
   "cell_type": "markdown",
   "id": "f853deac-136c-48ca-b22e-9a54f780bcf9",
   "metadata": {},
   "source": [
    "# Tavily\n",
    "Usaremos Tavily (un motor de búsqueda) como herramienta. Para usarlo, necesitará obtener y configurar una clave API:\n",
    "```bash\n",
    "export TAVILY_API_KEY=\"...\"\n",
    "```\n",
    "o\n",
    "```bash\n",
    "set TAVILY_API_KEY=\"...\"\n",
    "```"
   ]
  },
  {
   "cell_type": "markdown",
   "id": "c84fc887-4b54-44f5-8f76-44eaf6bd4b70",
   "metadata": {},
   "source": [
    "Or, if in a notebook, you can set it with:"
   ]
  },
  {
   "cell_type": "code",
   "execution_count": 1,
   "id": "aec750e7-1779-46ac-bc76-031eb6b042f1",
   "metadata": {},
   "outputs": [
    {
     "name": "stdin",
     "output_type": "stream",
     "text": [
      "Tavily API key:\n",
      " ········\n"
     ]
    }
   ],
   "source": [
    "import getpass\n",
    "import os\n",
    "\n",
    "if not os.environ.get(\"TAVILY_API_KEY\"):\n",
    "    os.environ[\"TAVILY_API_KEY\"] = getpass.getpass(\"Tavily API key:\\n\")"
   ]
  },
  {
   "cell_type": "markdown",
   "id": "0bc15732-3af2-4e74-83d1-039db1149610",
   "metadata": {},
   "source": [
    "## Definiendo herramientas\n",
    "Primero necesitamos crear las herramientas que queremos usar. Nuestra herramienta principal será Tavily, un motor de búsqueda. Tenemos una herramienta integrada en LangChain para usar fácilmente Tavily como herramienta."
   ]
  },
  {
   "cell_type": "code",
   "execution_count": 3,
   "id": "d4306fd3-f179-442f-81ee-bd637aaf53f2",
   "metadata": {},
   "outputs": [
    {
     "name": "stdout",
     "output_type": "stream",
     "text": [
      "\n",
      "Resultado del motor de búsqueda\n",
      "\n",
      "[{'title': 'Weather in San Francisco', 'url': 'https://www.weatherapi.com/', 'content': \"{'location': {'name': 'San Francisco', 'region': 'California', 'country': 'United States of America', 'lat': 37.775, 'lon': -122.4183, 'tz_id': 'America/Los_Angeles', 'localtime_epoch': 1746916438, 'localtime': '2025-05-10 15:33'}, 'current': {'last_updated_epoch': 1746916200, 'last_updated': '2025-05-10 15:30', 'temp_c': 14.1, 'temp_f': 57.4, 'is_day': 1, 'condition': {'text': 'Mist', 'icon': '//cdn.weatherapi.com/weather/64x64/day/143.png', 'code': 1030}, 'wind_mph': 10.7, 'wind_kph': 17.3, 'wind_degree': 259, 'wind_dir': 'W', 'pressure_mb': 1016.0, 'pressure_in': 29.99, 'precip_mm': 0.0, 'precip_in': 0.0, 'humidity': 88, 'cloud': 0, 'feelslike_c': 12.8, 'feelslike_f': 55.0, 'windchill_c': 12.3, 'windchill_f': 54.1, 'heatindex_c': 13.4, 'heatindex_f': 56.1, 'dewpoint_c': 11.5, 'dewpoint_f': 52.6, 'vis_km': 8.0, 'vis_miles': 4.0, 'uv': 7.1, 'gust_mph': 16.3, 'gust_kph': 26.2}}\", 'score': 0.9051313}, {'title': 'San Francisco weather in May 2025 | Weather25.com', 'url': 'https://www.weather25.com/north-america/usa/california/san-francisco?page=month&month=May', 'content': 'Location was added to My Locations\\nLocation was removed from My Locations\\nApril\\nJune\\nSan Francisco weather in May 2025\\nThe temperatures in San Francisco in May are usually low and can range between 50°F and 68°F.\\nThe wather in San Francisco in May can vary between cold and nice weather days. Expect a few rainy days but usually not more than 3.\\nOur weather forecast can give you a great sense of what weather to expect in San Francisco in May 2025. [...] | Sun | Mon | Tue | Wed | Thu | Fri | Sat |\\n| --- | --- | --- | --- | --- | --- | --- |\\n| \\n | \\n| \\n| \\n| 1  62° /50° | 2  64° /50° | 3  64° /51° |\\n| 4  64° /51° | 5  60° /50° | 6  60° /50° | 7  64° /50° | 8  66° /50° | 9  62° /51° | 10  66° /51° |\\n| 11  64° /51° | 12  64° /51° | 13  66° /51° | 14  64° /51° | 15  64° /51° | 16  62° /51° | 17  62° /51° |\\n| 18  62° /51° | 19  62° /51° | 20  64° /50° | 21  64° /51° | 22  64° /50° | 23  64° /51° | 24  66° /51° | [...] Temperatures\\n68° / 50°\\n\\nRainy Days\\n1\\n\\nSnowy Days\\n0\\n\\nDry Days\\n30\\n\\nRainfall\\n0.51\\nin\\n\\nSun Hours\\n11.3\\nHrs\\nHistoric average weather for May\\n\\nMay', 'score': 0.8684817}]\n"
     ]
    }
   ],
   "source": [
    "# Defining the search engine with max results of 2\n",
    "search = TavilySearchResults(max_results=2)\n",
    "# invoking the search engine with a question\n",
    "search_results = search.invoke(\"what is the weather in SF\")\n",
    "print(\"\\nResultado del motor de búsqueda\\n\")\n",
    "# Pinrting the results\n",
    "print(search_results)\n",
    "# If we want, we can create other tools.\n",
    "# Once we have all the tools we want, we can put them in a list that we will reference later.\n",
    "tools = [search]"
   ]
  },
  {
   "cell_type": "markdown",
   "id": "cc874ea9-8315-4169-845f-00cf9384a6df",
   "metadata": {},
   "source": [
    "# Usando Modelos de Lenguaje\n",
    "A continuación, aprendamos cómo utilizar un modelo de lenguaje para llamar herramientas. En este caso Ollama"
   ]
  },
  {
   "cell_type": "code",
   "execution_count": 4,
   "id": "d7699ff7-c0e2-4d7c-b9e7-4a7b597e16cf",
   "metadata": {},
   "outputs": [],
   "source": [
    "# Model\n",
    "model = ChatOllama(\n",
    "    # Modelo descargado desde Ollama (puedes cambiar el nombre según el modelo disponible)\n",
    "    model=\"llama3.2\",\n",
    "    base_url=\"http://localhost:11434\"  # URL local donde corre el servidor de Ollama\n",
    ")"
   ]
  },
  {
   "cell_type": "markdown",
   "id": "3bf653ae-8cb8-4cea-b25c-d664dd33a29b",
   "metadata": {},
   "source": [
    "Puedes llamar al modelo de lenguaje pasando una lista de mensajes. Por defecto, la respuesta es una cadena de contenido."
   ]
  },
  {
   "cell_type": "code",
   "execution_count": 5,
   "id": "8f10b0b5-6868-436d-964b-ce546c94c16f",
   "metadata": {},
   "outputs": [
    {
     "name": "stdout",
     "output_type": "stream",
     "text": [
      "How can I assist you today?\n"
     ]
    }
   ],
   "source": [
    "# Using the model\n",
    "response = model.invoke([HumanMessage(content=\"hi!\")])\n",
    "print(response.content)"
   ]
  },
  {
   "cell_type": "markdown",
   "id": "36b746e9-e8e7-4c9e-affa-a173297bb153",
   "metadata": {},
   "source": [
    "Ahora podemos ver cómo habilitar este modelo para realizar llamadas a herramientas. Para ello, usamos .bind_tools para proporcionar al modelo de lenguaje el conocimiento de estas herramientas. Por defecto, la respuesta es una cadena de contenido."
   ]
  },
  {
   "cell_type": "code",
   "execution_count": 7,
   "id": "73ad6cc6-a306-4733-a7b4-f2a38c403c09",
   "metadata": {},
   "outputs": [],
   "source": [
    "model_with_tools = model.bind_tools(tools)"
   ]
  },
  {
   "cell_type": "markdown",
   "id": "55c6a727-fa29-44e4-b739-776efd1c9d84",
   "metadata": {},
   "source": [
    "Ahora podemos llamar al modelo. Primero, llamémoslo con un mensaje normal y veamos cómo responde. Podemos examinar tanto el campo de contenido como el campo `tool_calls`."
   ]
  },
  {
   "cell_type": "code",
   "execution_count": 8,
   "id": "cd17a816-bfe1-4932-b6cb-d5c8cfb77387",
   "metadata": {},
   "outputs": [
    {
     "name": "stdout",
     "output_type": "stream",
     "text": [
      "ContentString: \n",
      "ToolCalls: [{'name': 'tavily_search_results_json', 'args': {'query': ''}, 'id': '5873cb88-f651-44c7-b823-b331e4f6e1c9', 'type': 'tool_call'}]\n"
     ]
    }
   ],
   "source": [
    "response = model_with_tools.invoke([HumanMessage(content=\"Hi!\")])\n",
    "\n",
    "print(f\"ContentString: {response.content}\")\n",
    "print(f\"ToolCalls: {response.tool_calls}\")"
   ]
  },
  {
   "cell_type": "markdown",
   "id": "e8691ab2-01af-44b0-b5f5-797795ff6937",
   "metadata": {},
   "source": [
    "El resultado puede variar dependiendo del modelo. En este caso el modelo Ollama Llama3.2 1B no tiene la capacidad de decidir si usar una herramienta o no sino que  hace el llamado de la herramienta sin importar el contenido del \"prompt\".\n",
    "El resultado esperado utilizando OpenAI sería:\n",
    "\n",
    "ContentString: Hello!\n",
    "\n",
    "ToolCalls: []"
   ]
  },
  {
   "cell_type": "markdown",
   "id": "c724ccf8-3997-4350-bc19-c96760907f60",
   "metadata": {},
   "source": [
    "Ahora, intentemos llamarlo con alguna entrada que esperaría que se llamara una herramienta."
   ]
  },
  {
   "cell_type": "code",
   "execution_count": 9,
   "id": "a72526da-4330-4698-b9d0-3a19ae6ce8ba",
   "metadata": {},
   "outputs": [
    {
     "name": "stdout",
     "output_type": "stream",
     "text": [
      "ContentString: \n",
      "ToolCalls: [{'name': 'tavily_search_results_json', 'args': {'query': 'SF weather'}, 'id': 'd28d84ab-aa9a-4177-85ca-d72a781574cb', 'type': 'tool_call'}]\n"
     ]
    }
   ],
   "source": [
    "response = model_with_tools.invoke([HumanMessage(content=\"What's the weather in SF?\")])\n",
    "\n",
    "print(f\"ContentString: {response.content}\")\n",
    "print(f\"ToolCalls: {response.tool_calls}\")"
   ]
  },
  {
   "cell_type": "markdown",
   "id": "0b01eaa6-e92f-4a8d-aac4-94a3f468a5eb",
   "metadata": {},
   "source": [
    "Podemos ver que ya no hay texto, pero sí hay una llamada a la herramienta. Nos pide que llamemos a la herramienta de búsqueda de Tavily.\n",
    "\n",
    "Esto todavía no llama a la herramienta; simplemente nos lo indica. Para llamarla, debemos crear nuestro agente."
   ]
  },
  {
   "cell_type": "markdown",
   "id": "64de6b1e-6d81-463a-86ae-1c306eee7f8c",
   "metadata": {},
   "source": [
    "## Creando el agente\n",
    "Ahora que hemos definido las herramientas y el LLM, podemos crear el agente. Usaremos LangGraph para construirlo. Actualmente, usamos una interfaz de alto nivel, pero la ventaja de LangGraph es que esta interfaz está respaldada por una API de bajo nivel altamente controlable, por si se desea modificar la lógica del agente.\n",
    "\n",
    "Ahora podemos inicializar el agente con el LLM y las herramientas.\n",
    "\n",
    "Tenga en cuenta que estamos pasando el modelo, no model_with_tools. Esto se debe a que create_react_agent llamará automáticamente a .bind_tools."
   ]
  },
  {
   "cell_type": "code",
   "execution_count": 10,
   "id": "17c440b2-f953-425a-9690-31c9aae8756b",
   "metadata": {},
   "outputs": [],
   "source": [
    "agent_executor = create_react_agent(model, tools)"
   ]
  },
  {
   "cell_type": "markdown",
   "id": "4d516a0b-744b-4cf0-b762-e47eecc31216",
   "metadata": {},
   "source": [
    "## Ejecutando el agente\n",
    "¡Ahora podemos ejecutar el agente con algunas consultas! Tenga en cuenta que, por ahora, todas son consultas sin estado (no recordará las interacciones anteriores). Tenga en cuenta que el agente devolverá el estado final al finalizar la interacción (que incluye todas las entradas; más adelante veremos cómo obtener solo las salidas).\n",
    "\n",
    "Primero, veamos cómo responde cuando no es necesario llamar a una herramienta:"
   ]
  },
  {
   "cell_type": "code",
   "execution_count": 11,
   "id": "abcd79c0-8a34-4079-b125-df0e7cf8f8f6",
   "metadata": {},
   "outputs": [
    {
     "data": {
      "text/plain": [
       "[HumanMessage(content='hi!', additional_kwargs={}, response_metadata={}, id='5152eb1e-63ae-4765-b34f-ed6e88fe7eae'),\n",
       " AIMessage(content='', additional_kwargs={}, response_metadata={'model': 'llama3.2', 'created_at': '2025-05-10T22:45:43.2900083Z', 'done': True, 'done_reason': 'stop', 'total_duration': 3070829300, 'load_duration': 331760700, 'prompt_eval_count': 188, 'prompt_eval_duration': 521337800, 'eval_count': 22, 'eval_duration': 2217207500, 'model_name': 'llama3.2'}, id='run-1a1d2285-c4fd-42cb-b5f0-cc818887ca28-0', tool_calls=[{'name': 'tavily_search_results_json', 'args': {'query': 'current events'}, 'id': 'f91a86b4-f164-4ca5-ad6c-d7d3fc2d2ae0', 'type': 'tool_call'}], usage_metadata={'input_tokens': 188, 'output_tokens': 22, 'total_tokens': 210}),\n",
       " ToolMessage(content='[{\"title\": \"Current Events - The New York Times\", \"url\": \"https://www.nytimes.com/spotlight/learning-current-events\", \"content\": \"Resources for teaching about current events using New York Times content.\", \"score\": 0.53400564}, {\"title\": \"Portal:Current events - Wikipedia\", \"url\": \"https://en.wikipedia.org/wiki/Portal:Current_events\", \"content\": \"Topics in the news · Red Sea crisis · May 2025 Israeli attacks on Yemen · Gaza war. The Israel Security Cabinet confirms they plan to control more than 70% of\", \"score\": 0.43180037}]', name='tavily_search_results_json', id='f2dbbae4-7c92-47dd-93ad-e73e193aa9ac', tool_call_id='f91a86b4-f164-4ca5-ad6c-d7d3fc2d2ae0', artifact={'query': 'current events', 'follow_up_questions': None, 'answer': None, 'images': [], 'results': [{'url': 'https://www.nytimes.com/spotlight/learning-current-events', 'title': 'Current Events - The New York Times', 'content': 'Resources for teaching about current events using New York Times content.', 'score': 0.53400564, 'raw_content': None}, {'url': 'https://en.wikipedia.org/wiki/Portal:Current_events', 'title': 'Portal:Current events - Wikipedia', 'content': 'Topics in the news · Red Sea crisis · May 2025 Israeli attacks on Yemen · Gaza war. The Israel Security Cabinet confirms they plan to control more than 70% of', 'score': 0.43180037, 'raw_content': None}], 'response_time': 1.91}),\n",
       " AIMessage(content='Here\\'s an answer to your original question based on the tool call response:\\n\\n\"Here are some current events resources and information: \\n\\nFor teaching about current events, you can use resources from The New York Times, such as their Spotlight on Learning section, which provides materials for teaching about current events using NYTimes content. \\n\\nAlternatively, you can visit Wikipedia\\'s Portal on Current Events, which offers a comprehensive overview of the latest news and developments in this field.\\n\\nSome notable current events include the Red Sea crisis, May 2025 Israeli attacks on Yemen, and the Gaza war. These topics are currently being widely discussed in the news.\"', additional_kwargs={}, response_metadata={'model': 'llama3.2', 'created_at': '2025-05-10T22:46:10.7633215Z', 'done': True, 'done_reason': 'stop', 'total_duration': 25175882300, 'load_duration': 36273100, 'prompt_eval_count': 225, 'prompt_eval_duration': 10615911000, 'eval_count': 127, 'eval_duration': 14518847200, 'model_name': 'llama3.2'}, id='run-4552b335-2eda-4e3e-87c2-ed8d33658377-0', usage_metadata={'input_tokens': 225, 'output_tokens': 127, 'total_tokens': 352})]"
      ]
     },
     "execution_count": 11,
     "metadata": {},
     "output_type": "execute_result"
    }
   ],
   "source": [
    "response = agent_executor.invoke({\"messages\": [HumanMessage(content=\"hi!\")]})\n",
    "\n",
    "response[\"messages\"]"
   ]
  },
  {
   "cell_type": "markdown",
   "id": "4c4f206c-7e8f-462c-bfc4-8101b94eaffb",
   "metadata": {},
   "source": [
    "El resultado varia dependiendo el modelo. El resultado esperado es:\n",
    "\n",
    "[HumanMessage(content='hi!', id='a820fcc5-9b87-457a-9af0-f21768143ee3'),\n",
    " AIMessage(content='Hello!', response_metadata={'id': 'msg_01VbC493X1VEDyusgttiEr1z', 'model': 'claude-3-sonnet-20240229', 'stop_reason': 'end_turn', 'stop_sequence': None, 'usage': {'input_tokens': 264, 'output_tokens': 5}}, id='run-0e0ddae8-a85b-4bd6-947c-c36c857a4698-0', usage_metadata={'input_tokens': 264, 'output_tokens': 5, 'total_tokens': 269})]\n",
    "\n",
    "Ahora probemos con un ejemplo donde debería invocar la herramienta."
   ]
  },
  {
   "cell_type": "code",
   "execution_count": 12,
   "id": "f2c8ce9d-a48a-4d20-8863-1fcdf526c6bd",
   "metadata": {},
   "outputs": [
    {
     "data": {
      "text/plain": [
       "[HumanMessage(content='whats the weather in sf?', additional_kwargs={}, response_metadata={}, id='06b22756-f046-4fc7-8b16-865f5ef7a778'),\n",
       " AIMessage(content='', additional_kwargs={}, response_metadata={'model': 'llama3.2', 'created_at': '2025-05-10T22:57:58.2005927Z', 'done': True, 'done_reason': 'stop', 'total_duration': 52552843800, 'load_duration': 38193758300, 'prompt_eval_count': 193, 'prompt_eval_duration': 12082023200, 'eval_count': 22, 'eval_duration': 2265435700, 'model_name': 'llama3.2'}, id='run-b9933972-b0cf-4268-980e-8672cd468cbc-0', tool_calls=[{'name': 'tavily_search_results_json', 'args': {'query': 'sf weather'}, 'id': '449e5898-44a8-4ca2-a852-09275a273fc5', 'type': 'tool_call'}], usage_metadata={'input_tokens': 193, 'output_tokens': 22, 'total_tokens': 215}),\n",
       " ToolMessage(content='[{\"title\": \"Weather in San Francisco in May 2025 (California)\", \"url\": \"https://world-weather.info/forecast/usa/san_francisco/may-2025/\", \"content\": \"Weather in San Francisco in May 2025. San Francisco Weather Forecast for ... Saturday, 10 May. +54°. Day. +68°. Clear sky. Sunday, 11 May. +52°. Day. +63°. Clear\", \"score\": 0.9484276}, {\"title\": \"Weather in San Francisco\", \"url\": \"https://www.weatherapi.com/\", \"content\": \"{\\'location\\': {\\'name\\': \\'San Francisco\\', \\'region\\': \\'California\\', \\'country\\': \\'United States of America\\', \\'lat\\': 37.775, \\'lon\\': -122.4183, \\'tz_id\\': \\'America/Los_Angeles\\', \\'localtime_epoch\\': 1746918223, \\'localtime\\': \\'2025-05-10 16:03\\'}, \\'current\\': {\\'last_updated_epoch\\': 1746918000, \\'last_updated\\': \\'2025-05-10 16:00\\', \\'temp_c\\': 14.3, \\'temp_f\\': 57.7, \\'is_day\\': 1, \\'condition\\': {\\'text\\': \\'Mist\\', \\'icon\\': \\'//cdn.weatherapi.com/weather/64x64/day/143.png\\', \\'code\\': 1030}, \\'wind_mph\\': 11.4, \\'wind_kph\\': 18.4, \\'wind_degree\\': 261, \\'wind_dir\\': \\'W\\', \\'pressure_mb\\': 1015.0, \\'pressure_in\\': 29.98, \\'precip_mm\\': 0.0, \\'precip_in\\': 0.0, \\'humidity\\': 88, \\'cloud\\': 0, \\'feelslike_c\\': 12.9, \\'feelslike_f\\': 55.3, \\'windchill_c\\': 12.1, \\'windchill_f\\': 53.9, \\'heatindex_c\\': 13.3, \\'heatindex_f\\': 56.0, \\'dewpoint_c\\': 11.1, \\'dewpoint_f\\': 52.1, \\'vis_km\\': 4.8, \\'vis_miles\\': 2.0, \\'uv\\': 5.0, \\'gust_mph\\': 17.2, \\'gust_kph\\': 27.8}}\", \"score\": 0.9209998}]', name='tavily_search_results_json', id='f423bb45-97b5-4e25-9fad-514c73751eec', tool_call_id='449e5898-44a8-4ca2-a852-09275a273fc5', artifact={'query': 'sf weather', 'follow_up_questions': None, 'answer': None, 'images': [], 'results': [{'url': 'https://world-weather.info/forecast/usa/san_francisco/may-2025/', 'title': 'Weather in San Francisco in May 2025 (California)', 'content': 'Weather in San Francisco in May 2025. San Francisco Weather Forecast for ... Saturday, 10 May. +54°. Day. +68°. Clear sky. Sunday, 11 May. +52°. Day. +63°. Clear', 'score': 0.9484276, 'raw_content': None}, {'title': 'Weather in San Francisco', 'url': 'https://www.weatherapi.com/', 'content': \"{'location': {'name': 'San Francisco', 'region': 'California', 'country': 'United States of America', 'lat': 37.775, 'lon': -122.4183, 'tz_id': 'America/Los_Angeles', 'localtime_epoch': 1746918223, 'localtime': '2025-05-10 16:03'}, 'current': {'last_updated_epoch': 1746918000, 'last_updated': '2025-05-10 16:00', 'temp_c': 14.3, 'temp_f': 57.7, 'is_day': 1, 'condition': {'text': 'Mist', 'icon': '//cdn.weatherapi.com/weather/64x64/day/143.png', 'code': 1030}, 'wind_mph': 11.4, 'wind_kph': 18.4, 'wind_degree': 261, 'wind_dir': 'W', 'pressure_mb': 1015.0, 'pressure_in': 29.98, 'precip_mm': 0.0, 'precip_in': 0.0, 'humidity': 88, 'cloud': 0, 'feelslike_c': 12.9, 'feelslike_f': 55.3, 'windchill_c': 12.1, 'windchill_f': 53.9, 'heatindex_c': 13.3, 'heatindex_f': 56.0, 'dewpoint_c': 11.1, 'dewpoint_f': 52.1, 'vis_km': 4.8, 'vis_miles': 2.0, 'uv': 5.0, 'gust_mph': 17.2, 'gust_kph': 27.8}}\", 'score': 0.9209998, 'raw_content': None}], 'response_time': 1.74}),\n",
       " AIMessage(content='The current weather in San Francisco is mostly clear with a temperature of around 57°F (14°C). There is a gentle breeze blowing at 11.4 mph from the west, and the relative humidity is at 88%. The forecast for Saturday and Sunday shows clear skies and temperatures ranging from 52°F to 68°F (11°C to 20°C).', additional_kwargs={}, response_metadata={'model': 'llama3.2', 'created_at': '2025-05-10T22:58:54.9794321Z', 'done': True, 'done_reason': 'stop', 'total_duration': 54691539700, 'load_duration': 326348100, 'prompt_eval_count': 630, 'prompt_eval_duration': 45070732700, 'eval_count': 75, 'eval_duration': 9282205800, 'model_name': 'llama3.2'}, id='run-c529c038-f270-49b9-bcdc-b83dbc82a2b6-0', usage_metadata={'input_tokens': 630, 'output_tokens': 75, 'total_tokens': 705})]"
      ]
     },
     "execution_count": 12,
     "metadata": {},
     "output_type": "execute_result"
    }
   ],
   "source": [
    "response = agent_executor.invoke(\n",
    "    {\"messages\": [HumanMessage(content=\"whats the weather in sf?\")]}\n",
    ")\n",
    "response[\"messages\"]"
   ]
  },
  {
   "cell_type": "markdown",
   "id": "b42f4150-8338-47e0-aeb2-753c5f261a06",
   "metadata": {},
   "source": [
    "## Streaming Messages\n",
    "Hemos visto cómo se puede llamar al agente con .invoke para obtener una respuesta final. Si el agente ejecuta varios pasos, esto puede tardar un tiempo. Para mostrar el progreso intermedio, podemos retransmitir los mensajes a medida que ocurren."
   ]
  },
  {
   "cell_type": "code",
   "execution_count": 13,
   "id": "2c17ed6d-b333-4723-8d41-e9676b392fa6",
   "metadata": {},
   "outputs": [
    {
     "name": "stdout",
     "output_type": "stream",
     "text": [
      "================================\u001b[1m Human Message \u001b[0m=================================\n",
      "\n",
      "whats the weather in sf?\n",
      "==================================\u001b[1m Ai Message \u001b[0m==================================\n",
      "Tool Calls:\n",
      "  tavily_search_results_json (741c1313-173b-4230-b7d7-6695d3cfb1ed)\n",
      " Call ID: 741c1313-173b-4230-b7d7-6695d3cfb1ed\n",
      "  Args:\n",
      "    query: sf weather\n",
      "=================================\u001b[1m Tool Message \u001b[0m=================================\n",
      "Name: tavily_search_results_json\n",
      "\n",
      "[{\"title\": \"Weather in San Francisco in May 2025 (California)\", \"url\": \"https://world-weather.info/forecast/usa/san_francisco/may-2025/\", \"content\": \"Weather in San Francisco in May 2025. San Francisco Weather Forecast for ... Saturday, 10 May. +54°. Day. +68°. Clear sky. Sunday, 11 May. +52°. Day. +63°. Clear\", \"score\": 0.9484276}, {\"title\": \"Weather in San Francisco\", \"url\": \"https://www.weatherapi.com/\", \"content\": \"{'location': {'name': 'San Francisco', 'region': 'California', 'country': 'United States of America', 'lat': 37.775, 'lon': -122.4183, 'tz_id': 'America/Los_Angeles', 'localtime_epoch': 1746918223, 'localtime': '2025-05-10 16:03'}, 'current': {'last_updated_epoch': 1746918000, 'last_updated': '2025-05-10 16:00', 'temp_c': 14.3, 'temp_f': 57.7, 'is_day': 1, 'condition': {'text': 'Mist', 'icon': '//cdn.weatherapi.com/weather/64x64/day/143.png', 'code': 1030}, 'wind_mph': 11.4, 'wind_kph': 18.4, 'wind_degree': 261, 'wind_dir': 'W', 'pressure_mb': 1015.0, 'pressure_in': 29.98, 'precip_mm': 0.0, 'precip_in': 0.0, 'humidity': 88, 'cloud': 0, 'feelslike_c': 12.9, 'feelslike_f': 55.3, 'windchill_c': 12.1, 'windchill_f': 53.9, 'heatindex_c': 13.3, 'heatindex_f': 56.0, 'dewpoint_c': 11.1, 'dewpoint_f': 52.1, 'vis_km': 4.8, 'vis_miles': 2.0, 'uv': 5.0, 'gust_mph': 17.2, 'gust_kph': 27.8}}\", \"score\": 0.9209998}]\n",
      "==================================\u001b[1m Ai Message \u001b[0m==================================\n",
      "\n",
      "The current weather in San Francisco is a misty day with a temperature of 14.3°C (57.7°F). The forecast for Saturday and Sunday predicts clear skies with highs of 68°C and 63°C, respectively. Wind speed is 11.4 mph (18.4 km/h) from the west, with a pressure of 1015.0 mb (29.98 inHg).\n"
     ]
    }
   ],
   "source": [
    "for step in agent_executor.stream(\n",
    "    {\"messages\": [HumanMessage(content=\"whats the weather in sf?\")]},\n",
    "    stream_mode=\"values\",\n",
    "):\n",
    "    step[\"messages\"][-1].pretty_print()"
   ]
  },
  {
   "cell_type": "markdown",
   "id": "48bdaab3-dd13-4e7d-8625-efffbd5ca1ac",
   "metadata": {},
   "source": [
    "## Streaming tokens\n",
    "Además de transmitir mensajes, también es útil transmitir tokens. Podemos hacerlo especificando stream_mode=\"messages\".\n",
    "\n",
    ":: nota\n",
    "\n",
    "A continuación, usamos message.text(), que requiere langchain-core >=0.3.37."
   ]
  },
  {
   "cell_type": "code",
   "execution_count": 14,
   "id": "47d2cc4b-ae44-4c70-b3a5-af197af9cc30",
   "metadata": {},
   "outputs": [
    {
     "name": "stdout",
     "output_type": "stream",
     "text": [
      "Unfortunately, I was unable to find a specific weather forecast for San Francisco (SF) due to the format of the output provided.\n",
      "\n",
      "However, according to historical data, on May 10th, the high temperature in San Francisco is around 68°F (20°C), with a clear sky and no precipitation expected.|"
     ]
    }
   ],
   "source": [
    "for step, metadata in agent_executor.stream(\n",
    "    {\"messages\": [HumanMessage(content=\"whats the weather in sf?\")]},\n",
    "    stream_mode=\"messages\",\n",
    "):\n",
    "    if metadata[\"langgraph_node\"] == \"agent\" and (text := step.text()):\n",
    "        print(text, end=\"|\")"
   ]
  },
  {
   "cell_type": "markdown",
   "id": "2b8f4c35-4362-4c6e-9517-d905383fdf30",
   "metadata": {},
   "source": [
    "## Añadiendo memoria\n",
    "Como se mencionó anteriormente, este agente no tiene estado. Esto significa que no recuerda interacciones previas. Para dotarlo de memoria, necesitamos pasar un puntero de control. Al pasar un puntero de control, también debemos pasar un thread_id al invocar al agente (para que sepa desde qué hilo/conversación reanudar)."
   ]
  },
  {
   "cell_type": "code",
   "execution_count": 15,
   "id": "0e792f3f-1cd2-46b0-a2cc-1d947ad3c3af",
   "metadata": {},
   "outputs": [
    {
     "name": "stdout",
     "output_type": "stream",
     "text": [
      "{'agent': {'messages': [AIMessage(content='', additional_kwargs={}, response_metadata={'model': 'llama3.2', 'created_at': '2025-05-10T23:35:31.8423458Z', 'done': True, 'done_reason': 'stop', 'total_duration': 29131279000, 'load_duration': 12927043800, 'prompt_eval_count': 190, 'prompt_eval_duration': 13432922300, 'eval_count': 23, 'eval_duration': 2767526800, 'model_name': 'llama3.2'}, id='run-8739974d-b4be-4d8d-a373-b8b4b287a29b-0', tool_calls=[{'name': 'tavily_search_results_json', 'args': {'query': 'current events news'}, 'id': '160c0424-94c6-4394-8abf-25766af4bc31', 'type': 'tool_call'}], usage_metadata={'input_tokens': 190, 'output_tokens': 23, 'total_tokens': 213})]}}\n",
      "----\n",
      "{'tools': {'messages': [ToolMessage(content='[{\"title\": \"TIME | Current & Breaking News | National & World Updates\", \"url\": \"https://time.com/\", \"content\": \"Breaking news and analysis from TIME.com. Politics, world news, photos, video, tech reviews, health, science and entertainment news.\", \"score\": 0.4023222}, {\"title\": \"NBC News - Breaking News & Top Stories - Latest World, US ...\", \"url\": \"https://www.nbcnews.com/\", \"content\": \"Trump admin chartering a plane to bring the first white South Africans to the U.S. as refugees\\\\n\\\\nU.S. news\\\\n\\\\nKentucky Derby-winning jockey suspended, fined $62,000 for striking horse too many times\\\\n\\\\nJustice Department\\\\n\\\\nInside the salacious scandal that derailed Jeanine Pirro\\'s political career\\\\n\\\\nLive Updates\\\\n\\\\nU.S.-brokered ceasefire between India and Pakistan allegedly violated hours after agreement\\\\n\\\\nIn Syria, the search is on for the remains of Americans killed by ISIS a decade ago [...] Serial killer Randy Kraft identified as suspect in 1980 murder\\\\n\\\\nJudge pauses Trump\\'s effort to reduce the size of the federal government\\\\n\\\\nWhite House \\'actively looking at\\' suspending due process for migrants, top adviser says\\\\n\\\\nDismantling of Education Dept. gives states \\'green light\\' to pursue voucher programs\\\\n\\\\nKash Patel\\'s new way of leading the FBI: Fewer morning intel briefings, more pro sports events\\\\n\\\\nU.S. spy agencies told to gather intelligence on Greenland [...] U.S.-China tariff talks begin as the world looks for signs of hope\\\\n\\\\nYe song glorifying Hitler gets millions of views on X while other platforms struggle to remove it\\\\n\\\\nTaylor Swift\\'s camp slams subpoena in Blake Lively-Justin Baldoni case as \\'tabloid clickbait\\'\\\\n\\\\nFDA stalls in posting food safety warning letters amid staff cuts\\\\n\\\\nThe U.S. has 1,001 measles cases and 11 states with active outbreaks\\\\n\\\\nFDA approves at-home HPV test to screen for cervical cancer\", \"score\": 0.38713467}]', name='tavily_search_results_json', id='966ad9b1-271a-4628-ab62-74233fe126eb', tool_call_id='160c0424-94c6-4394-8abf-25766af4bc31', artifact={'query': 'current events news', 'follow_up_questions': None, 'answer': None, 'images': [], 'results': [{'url': 'https://time.com/', 'title': 'TIME | Current & Breaking News | National & World Updates', 'content': 'Breaking news and analysis from TIME.com. Politics, world news, photos, video, tech reviews, health, science and entertainment news.', 'score': 0.4023222, 'raw_content': None}, {'url': 'https://www.nbcnews.com/', 'title': 'NBC News - Breaking News & Top Stories - Latest World, US ...', 'content': \"Trump admin chartering a plane to bring the first white South Africans to the U.S. as refugees\\n\\nU.S. news\\n\\nKentucky Derby-winning jockey suspended, fined $62,000 for striking horse too many times\\n\\nJustice Department\\n\\nInside the salacious scandal that derailed Jeanine Pirro's political career\\n\\nLive Updates\\n\\nU.S.-brokered ceasefire between India and Pakistan allegedly violated hours after agreement\\n\\nIn Syria, the search is on for the remains of Americans killed by ISIS a decade ago [...] Serial killer Randy Kraft identified as suspect in 1980 murder\\n\\nJudge pauses Trump's effort to reduce the size of the federal government\\n\\nWhite House 'actively looking at' suspending due process for migrants, top adviser says\\n\\nDismantling of Education Dept. gives states 'green light' to pursue voucher programs\\n\\nKash Patel's new way of leading the FBI: Fewer morning intel briefings, more pro sports events\\n\\nU.S. spy agencies told to gather intelligence on Greenland [...] U.S.-China tariff talks begin as the world looks for signs of hope\\n\\nYe song glorifying Hitler gets millions of views on X while other platforms struggle to remove it\\n\\nTaylor Swift's camp slams subpoena in Blake Lively-Justin Baldoni case as 'tabloid clickbait'\\n\\nFDA stalls in posting food safety warning letters amid staff cuts\\n\\nThe U.S. has 1,001 measles cases and 11 states with active outbreaks\\n\\nFDA approves at-home HPV test to screen for cervical cancer\", 'score': 0.38713467, 'raw_content': None}], 'response_time': 1.81})]}}\n",
      "----\n",
      "{'agent': {'messages': [AIMessage(content=\"Hi Bob! I've searched for the latest news and events for you. Here are some current happenings:\\n\\n* Breaking news from TIME: The first white South Africans are being brought to the US as refugees, and there's a new development in the Kentucky Derby.\\n* Latest updates from NBC News:\\n\\t+ A plane is chartering a flight to bring white South Africans to the US.\\n\\t+ The jockey who won the Kentucky Derby has been suspended.\\n\\t+ There's a scandal surrounding Jeanine Pirro's career.\\n\\t+ The US and Pakistan have allegedly violated their ceasefire agreement.\\n\\t+ The remains of Americans killed by ISIS are still being searched for in Syria.\\n\\t+ A serial killer has been identified as Randy Kraft, suspected in an 1980 murder.\\n\\t+ The White House is considering suspending due process for migrants.\\n\\t+ States are now free to pursue voucher programs after the Education Dept. was dismantled.\\n\\t+ US spy agencies are gathering intelligence on Greenland.\\n\\t+ Talks between the US and China are underway over tariffs.\\n\\nYou can find more information about these stories and others by visiting the links provided. I hope this helps, Bob!\", additional_kwargs={}, response_metadata={'model': 'llama3.2', 'created_at': '2025-05-10T23:36:38.3736029Z', 'done': True, 'done_reason': 'stop', 'total_duration': 64234736000, 'load_duration': 244981200, 'prompt_eval_count': 528, 'prompt_eval_duration': 33148919200, 'eval_count': 237, 'eval_duration': 30836550300, 'model_name': 'llama3.2'}, id='run-d006b3a5-3f4c-47ea-ae88-55540778c069-0', usage_metadata={'input_tokens': 528, 'output_tokens': 237, 'total_tokens': 765})]}}\n",
      "----\n"
     ]
    }
   ],
   "source": [
    "memory = MemorySaver()\n",
    "\n",
    "agent_executor = create_react_agent(model, tools, checkpointer=memory)\n",
    "\n",
    "config = {\"configurable\": {\"thread_id\": \"abc123\"}}\n",
    "\n",
    "for chunk in agent_executor.stream(\n",
    "    {\"messages\": [HumanMessage(content=\"hi im bob!\")]}, config\n",
    "):\n",
    "    print(chunk)\n",
    "    print(\"----\")"
   ]
  },
  {
   "cell_type": "code",
   "execution_count": 16,
   "id": "159d1ba3-4c76-45ec-9ccc-c620d58e3e38",
   "metadata": {},
   "outputs": [
    {
     "name": "stdout",
     "output_type": "stream",
     "text": [
      "{'agent': {'messages': [AIMessage(content='', additional_kwargs={}, response_metadata={'model': 'llama3.2', 'created_at': '2025-05-10T23:36:53.9468267Z', 'done': True, 'done_reason': 'stop', 'total_duration': 15435623700, 'load_duration': 34867000, 'prompt_eval_count': 908, 'prompt_eval_duration': 11930262700, 'eval_count': 24, 'eval_duration': 3458008700, 'model_name': 'llama3.2'}, id='run-bd03043d-1f9d-4fd8-9335-7fe7713b863c-0', tool_calls=[{'name': 'tavily_search_results_json', 'args': {'query': 'what is your name'}, 'id': '7d1f4470-bfb5-4a2a-9ac2-098b80b3768f', 'type': 'tool_call'}], usage_metadata={'input_tokens': 908, 'output_tokens': 24, 'total_tokens': 932})]}}\n",
      "----\n",
      "{'tools': {'messages': [ToolMessage(content='[{\"title\": \"Your Name - Wikipedia\", \"url\": \"https://en.wikipedia.org/wiki/Your_Name\", \"content\": \"Your Name[b] (Japanese: 君の名は。, Hepburn: Kimi no Na wa) is a 2016 Japanese animated fantasy film written and directed by Makoto Shinkai, produced by CoMix Wave Films, and distributed by Toho. It depicts the story of high school students Taki Tachibana and Mitsuha Miyamizu, who suddenly begin to swap bodies despite having never met, unleashing chaos on each other\\'s lives. The film was inspired by the frequency of natural disasters in Japan. [...] Your Name is a Japanese light novel written by Makoto Shinkai. It is a novelization of the animated film of the same name, which was directed by Shinkai. It was published in Japan by Kadokawa on June 18, 2016, a month prior to the film premiere.[115] By September 2016, the light novel had sold around 1,029,000 copies. An official visual guide was also released.[116] The novel sold over 1.3\\xa0million copies, while the novel and visual guide sold over 2.5\\xa0million copies combined.[117] An audiobook\", \"score\": 0.8138313}, {\"title\": \"Should we say \\\\\"what are your name?\\\\\" not \\\\\"what is your name?\\\\\"?\", \"url\": \"https://ell.stackexchange.com/questions/17979/should-we-say-what-are-your-name-not-what-is-your-name\", \"content\": \"|\\xa0 Show 1 more comment\\\\n9\\\\n\\\\n\\\\\"Who are you?\\\\\" would be correct, because \\\\\"you\\\\\" is the subject of the sentence. But \\\\\"What is your name?\\\\\" is different: \\\\\"Name\\\\\" is the subject of that sentence. It is modified by the adjective \\\\\"your\\\\\", but that doesn\\'t change the subject.\\\\nBecause of that, your student is correct. The sentence you mentioned is talking about the person\\'s name, not the actual person. That\\'s what makes the difference.\\\\nShare\\\\nImprove this answer\\\\nFollow  \\\\nanswered Feb 24, 2014 at 14:08 [...] No. \\\\\"What IS your name?\\\\\" is correct.\\\\nThe subject of the sentence is not \\\\\"you\\\\\", but \\\\\"name\\\\\". \\\\\"Name\\\\\" is singular. [...] I think it is correct to ask \\\\\"What is your name?\\\\\", and also correct to ask \\\\\"What are your names?\\\\\", depending on the way you are using it.\\\\nIf you are asked what is your name, you are expected to reply with your name and your surname e.g Adelaja Adebisi, which is a compound name making it singular. On the other hand, if asked what are your names, and you give your names as Adelaja Adebisi Tolulope, then, the Tolulope added to it makes it plural so it is correct.\\\\nShare\\\\nImprove this answer\", \"score\": 0.776708}]', name='tavily_search_results_json', id='303adb9b-f807-4e8c-a1b0-ceaa45c40c1b', tool_call_id='7d1f4470-bfb5-4a2a-9ac2-098b80b3768f', artifact={'query': 'what is your name', 'follow_up_questions': None, 'answer': None, 'images': [], 'results': [{'url': 'https://en.wikipedia.org/wiki/Your_Name', 'title': 'Your Name - Wikipedia', 'content': \"Your Name[b] (Japanese: 君の名は。, Hepburn: Kimi no Na wa) is a 2016 Japanese animated fantasy film written and directed by Makoto Shinkai, produced by CoMix Wave Films, and distributed by Toho. It depicts the story of high school students Taki Tachibana and Mitsuha Miyamizu, who suddenly begin to swap bodies despite having never met, unleashing chaos on each other's lives. The film was inspired by the frequency of natural disasters in Japan. [...] Your Name is a Japanese light novel written by Makoto Shinkai. It is a novelization of the animated film of the same name, which was directed by Shinkai. It was published in Japan by Kadokawa on June 18, 2016, a month prior to the film premiere.[115] By September 2016, the light novel had sold around 1,029,000 copies. An official visual guide was also released.[116] The novel sold over 1.3\\xa0million copies, while the novel and visual guide sold over 2.5\\xa0million copies combined.[117] An audiobook\", 'score': 0.8138313, 'raw_content': None}, {'url': 'https://ell.stackexchange.com/questions/17979/should-we-say-what-are-your-name-not-what-is-your-name', 'title': 'Should we say \"what are your name?\" not \"what is your name?\"?', 'content': '|\\xa0 Show 1 more comment\\n9\\n\\n\"Who are you?\" would be correct, because \"you\" is the subject of the sentence. But \"What is your name?\" is different: \"Name\" is the subject of that sentence. It is modified by the adjective \"your\", but that doesn\\'t change the subject.\\nBecause of that, your student is correct. The sentence you mentioned is talking about the person\\'s name, not the actual person. That\\'s what makes the difference.\\nShare\\nImprove this answer\\nFollow  \\nanswered Feb 24, 2014 at 14:08 [...] No. \"What IS your name?\" is correct.\\nThe subject of the sentence is not \"you\", but \"name\". \"Name\" is singular. [...] I think it is correct to ask \"What is your name?\", and also correct to ask \"What are your names?\", depending on the way you are using it.\\nIf you are asked what is your name, you are expected to reply with your name and your surname e.g Adelaja Adebisi, which is a compound name making it singular. On the other hand, if asked what are your names, and you give your names as Adelaja Adebisi Tolulope, then, the Tolulope added to it makes it plural so it is correct.\\nShare\\nImprove this answer', 'score': 0.776708, 'raw_content': None}], 'response_time': 1.38})]}}\n",
      "----\n",
      "{'agent': {'messages': [AIMessage(content='Hi Bob! I\\'ve searched for information about your name. It seems that there\\'s no specific information available about a person with your name.\\n\\nHowever, I did find some relevant results:\\n\\n* A Japanese animated film titled \"Your Name\" (2016) written and directed by Makoto Shinkai.\\n* A light novel of the same name, also written by Makoto Shinkai.\\n* A discussion on Stack Exchange about whether to ask \"What is your name?\" or \"What are your names?\"\\n\\nIf you\\'re interested in learning more about these topics or would like me to search for something else, feel free to let me know!', additional_kwargs={}, response_metadata={'model': 'llama3.2', 'created_at': '2025-05-10T23:38:14.2271577Z', 'done': True, 'done_reason': 'stop', 'total_duration': 78575332200, 'load_duration': 39296200, 'prompt_eval_count': 1449, 'prompt_eval_duration': 55715162600, 'eval_count': 130, 'eval_duration': 22798427100, 'model_name': 'llama3.2'}, id='run-c338fcc4-abd3-486e-9519-2634deea2c2d-0', usage_metadata={'input_tokens': 1449, 'output_tokens': 130, 'total_tokens': 1579})]}}\n",
      "----\n"
     ]
    }
   ],
   "source": [
    "for chunk in agent_executor.stream(\n",
    "    {\"messages\": [HumanMessage(content=\"whats my name?\")]}, config\n",
    "):\n",
    "    print(chunk)\n",
    "    print(\"----\")"
   ]
  },
  {
   "cell_type": "code",
   "execution_count": 17,
   "id": "2ecce2b7-82d5-4d73-89de-33c7b78360d6",
   "metadata": {},
   "outputs": [
    {
     "name": "stdout",
     "output_type": "stream",
     "text": [
      "{'agent': {'messages': [AIMessage(content='', additional_kwargs={}, response_metadata={'model': 'llama3.2', 'created_at': '2025-05-10T23:38:27.8463755Z', 'done': True, 'done_reason': 'stop', 'total_duration': 13590600800, 'load_duration': 44766800, 'prompt_eval_count': 191, 'prompt_eval_duration': 10323444700, 'eval_count': 24, 'eval_duration': 3221864800, 'model_name': 'llama3.2'}, id='run-c02baf5f-4daa-41f7-92e3-fcbab14d3c6d-0', tool_calls=[{'name': 'tavily_search_results_json', 'args': {'query': 'what is your name'}, 'id': 'c60eee73-7f8d-4bbc-a590-abe9a2d50bf1', 'type': 'tool_call'}], usage_metadata={'input_tokens': 191, 'output_tokens': 24, 'total_tokens': 215})]}}\n",
      "----\n",
      "{'tools': {'messages': [ToolMessage(content='[{\"title\": \"Your Name - Wikipedia\", \"url\": \"https://en.wikipedia.org/wiki/Your_Name\", \"content\": \"Your Name[b] (Japanese: 君の名は。, Hepburn: Kimi no Na wa) is a 2016 Japanese animated fantasy film written and directed by Makoto Shinkai, produced by CoMix Wave Films, and distributed by Toho. It depicts the story of high school students Taki Tachibana and Mitsuha Miyamizu, who suddenly begin to swap bodies despite having never met, unleashing chaos on each other\\'s lives. The film was inspired by the frequency of natural disasters in Japan. [...] Your Name is a Japanese light novel written by Makoto Shinkai. It is a novelization of the animated film of the same name, which was directed by Shinkai. It was published in Japan by Kadokawa on June 18, 2016, a month prior to the film premiere.[115] By September 2016, the light novel had sold around 1,029,000 copies. An official visual guide was also released.[116] The novel sold over 1.3\\xa0million copies, while the novel and visual guide sold over 2.5\\xa0million copies combined.[117] An audiobook\", \"score\": 0.8138313}, {\"title\": \"Should we say \\\\\"what are your name?\\\\\" not \\\\\"what is your name?\\\\\"?\", \"url\": \"https://ell.stackexchange.com/questions/17979/should-we-say-what-are-your-name-not-what-is-your-name\", \"content\": \"|\\xa0 Show 1 more comment\\\\n9\\\\n\\\\n\\\\\"Who are you?\\\\\" would be correct, because \\\\\"you\\\\\" is the subject of the sentence. But \\\\\"What is your name?\\\\\" is different: \\\\\"Name\\\\\" is the subject of that sentence. It is modified by the adjective \\\\\"your\\\\\", but that doesn\\'t change the subject.\\\\nBecause of that, your student is correct. The sentence you mentioned is talking about the person\\'s name, not the actual person. That\\'s what makes the difference.\\\\nShare\\\\nImprove this answer\\\\nFollow  \\\\nanswered Feb 24, 2014 at 14:08 [...] No. \\\\\"What IS your name?\\\\\" is correct.\\\\nThe subject of the sentence is not \\\\\"you\\\\\", but \\\\\"name\\\\\". \\\\\"Name\\\\\" is singular. [...] I think it is correct to ask \\\\\"What is your name?\\\\\", and also correct to ask \\\\\"What are your names?\\\\\", depending on the way you are using it.\\\\nIf you are asked what is your name, you are expected to reply with your name and your surname e.g Adelaja Adebisi, which is a compound name making it singular. On the other hand, if asked what are your names, and you give your names as Adelaja Adebisi Tolulope, then, the Tolulope added to it makes it plural so it is correct.\\\\nShare\\\\nImprove this answer\", \"score\": 0.776708}]', name='tavily_search_results_json', id='c983c778-66d7-4acf-b7be-4ab3e7aea40d', tool_call_id='c60eee73-7f8d-4bbc-a590-abe9a2d50bf1', artifact={'query': 'what is your name', 'follow_up_questions': None, 'answer': None, 'images': [], 'results': [{'url': 'https://en.wikipedia.org/wiki/Your_Name', 'title': 'Your Name - Wikipedia', 'content': \"Your Name[b] (Japanese: 君の名は。, Hepburn: Kimi no Na wa) is a 2016 Japanese animated fantasy film written and directed by Makoto Shinkai, produced by CoMix Wave Films, and distributed by Toho. It depicts the story of high school students Taki Tachibana and Mitsuha Miyamizu, who suddenly begin to swap bodies despite having never met, unleashing chaos on each other's lives. The film was inspired by the frequency of natural disasters in Japan. [...] Your Name is a Japanese light novel written by Makoto Shinkai. It is a novelization of the animated film of the same name, which was directed by Shinkai. It was published in Japan by Kadokawa on June 18, 2016, a month prior to the film premiere.[115] By September 2016, the light novel had sold around 1,029,000 copies. An official visual guide was also released.[116] The novel sold over 1.3\\xa0million copies, while the novel and visual guide sold over 2.5\\xa0million copies combined.[117] An audiobook\", 'score': 0.8138313, 'raw_content': None}, {'url': 'https://ell.stackexchange.com/questions/17979/should-we-say-what-are-your-name-not-what-is-your-name', 'title': 'Should we say \"what are your name?\" not \"what is your name?\"?', 'content': '|\\xa0 Show 1 more comment\\n9\\n\\n\"Who are you?\" would be correct, because \"you\" is the subject of the sentence. But \"What is your name?\" is different: \"Name\" is the subject of that sentence. It is modified by the adjective \"your\", but that doesn\\'t change the subject.\\nBecause of that, your student is correct. The sentence you mentioned is talking about the person\\'s name, not the actual person. That\\'s what makes the difference.\\nShare\\nImprove this answer\\nFollow  \\nanswered Feb 24, 2014 at 14:08 [...] No. \"What IS your name?\" is correct.\\nThe subject of the sentence is not \"you\", but \"name\". \"Name\" is singular. [...] I think it is correct to ask \"What is your name?\", and also correct to ask \"What are your names?\", depending on the way you are using it.\\nIf you are asked what is your name, you are expected to reply with your name and your surname e.g Adelaja Adebisi, which is a compound name making it singular. On the other hand, if asked what are your names, and you give your names as Adelaja Adebisi Tolulope, then, the Tolulope added to it makes it plural so it is correct.\\nShare\\nImprove this answer', 'score': 0.776708, 'raw_content': None}], 'response_time': 1.47})]}}\n",
      "----\n",
      "{'agent': {'messages': [AIMessage(content=\"I don't have information on your name in my current data. The tool call response I received earlier was from a search engine and didn't provide any personal information about you. If you're looking for general information on names or questions related to names, I'd be happy to help with that!\", additional_kwargs={}, response_metadata={'model': 'llama3.2', 'created_at': '2025-05-10T23:39:31.5804905Z', 'done': True, 'done_reason': 'stop', 'total_duration': 61911962200, 'load_duration': 35566800, 'prompt_eval_count': 732, 'prompt_eval_duration': 52519827800, 'eval_count': 60, 'eval_duration': 9351804700, 'model_name': 'llama3.2'}, id='run-918954d2-0db2-4034-ad55-fe677a5723a5-0', usage_metadata={'input_tokens': 732, 'output_tokens': 60, 'total_tokens': 792})]}}\n",
      "----\n"
     ]
    }
   ],
   "source": [
    "config = {\"configurable\": {\"thread_id\": \"xyz123\"}}\n",
    "for chunk in agent_executor.stream(\n",
    "    {\"messages\": [HumanMessage(content=\"whats my name?\")]}, config\n",
    "):\n",
    "    print(chunk)\n",
    "    print(\"----\")"
   ]
  },
  {
   "cell_type": "markdown",
   "id": "d16c48d9-ba6c-423e-82f0-563e48853f45",
   "metadata": {},
   "source": [
    "¡Listo! En esta guía rápida, explicamos cómo crear un agente simple. También mostramos cómo transmitir una respuesta, no solo con los pasos intermedios, sino también con tokens. También añadimos memoria para que puedas conversar con ellos. ¡Los agentes son un tema complejo con mucho que aprender!\n",
    "\n",
    "Para más información sobre agentes, consulta la documentación de LangGraph. Esta incluye su propio conjunto de conceptos, tutoriales y guías prácticas."
   ]
  }
 ],
 "metadata": {
  "kernelspec": {
   "display_name": "Python (LangChain Ollama)",
   "language": "python",
   "name": "langchain-ollama"
  },
  "language_info": {
   "codemirror_mode": {
    "name": "ipython",
    "version": 3
   },
   "file_extension": ".py",
   "mimetype": "text/x-python",
   "name": "python",
   "nbconvert_exporter": "python",
   "pygments_lexer": "ipython3",
   "version": "3.12.6"
  }
 },
 "nbformat": 4,
 "nbformat_minor": 5
}
